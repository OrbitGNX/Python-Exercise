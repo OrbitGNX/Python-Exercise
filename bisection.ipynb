{
 "cells": [
  {
   "cell_type": "markdown",
   "id": "278109e6",
   "metadata": {},
   "source": [
    "# Bisection Search <hr style=\"border:2.5px solid #126782\"></hr>"
   ]
  },
  {
   "cell_type": "markdown",
   "id": "d33f520f",
   "metadata": {},
   "source": [
    "<b>Gyro A. Madrona</b>\n",
    "<br>Electronics Engineer"
   ]
  },
  {
   "cell_type": "markdown",
   "id": "c4785e45",
   "metadata": {},
   "source": [
    "# Finding the square root of number"
   ]
  },
  {
   "cell_type": "markdown",
   "id": "c3413740",
   "metadata": {},
   "source": [
    "low = 0 ---------- guess = 50 ---------- high = 100"
   ]
  },
  {
   "cell_type": "markdown",
   "id": "148cddce",
   "metadata": {},
   "source": [
    "low = 0 ---- new guess = 25 ---- new high = 50"
   ]
  },
  {
   "cell_type": "code",
   "execution_count": 22,
   "id": "360fd4ec",
   "metadata": {},
   "outputs": [
    {
     "name": "stdout",
     "output_type": "stream",
     "text": [
      "num_guesses = 18\n",
      "10.000038146972656 is close to square root of 100\n"
     ]
    }
   ],
   "source": [
    "x = 100\n",
    "\n",
    "# initial values\n",
    "epsilon = 0.001 # accuracy\n",
    "num_guesses = 0\n",
    "low = 0\n",
    "high = x\n",
    "\n",
    "# guess is the midpoint\n",
    "guess = (high + low)/2.0 # first guess = 50\n",
    "\n",
    "while abs(guess**2 - x) >= epsilon:\n",
    "    if guess**2 < x: # 50**2 = 2500\n",
    "        low =  guess # new low\n",
    "    else:\n",
    "        high =  guess # new high = 50\n",
    "    guess = (high + low)/2.0 # new guess = 25\n",
    "    num_guesses += 1\n",
    "print('num_guesses =', num_guesses)\n",
    "print(guess, 'is close to square root of', x)"
   ]
  },
  {
   "cell_type": "markdown",
   "id": "694ea3f0",
   "metadata": {},
   "source": [
    "# Square root for 0 < x < 1"
   ]
  },
  {
   "cell_type": "code",
   "execution_count": 21,
   "id": "99762f0b",
   "metadata": {},
   "outputs": [
    {
     "name": "stdout",
     "output_type": "stream",
     "text": [
      "0.70703125 is close to square root of 0.5\n"
     ]
    }
   ],
   "source": [
    "x = 0.5\n",
    "\n",
    "# initial values\n",
    "epsilon = 0.001 # accuracy\n",
    "\n",
    "if x >= 1:\n",
    "    low = 0\n",
    "    high = x\n",
    "else:\n",
    "    low = x # the square of the root is alwyas greater than 1\n",
    "    high = 1.0\n",
    "\n",
    "# guess is the midpoint\n",
    "guess = (high + low)/2.0 # first guess = 50\n",
    "\n",
    "while abs(guess**2 - x) >= epsilon:\n",
    "    if guess**2 < x: # 50**2 = 2500\n",
    "        low =  guess # new low\n",
    "    else:\n",
    "        high =  guess # new high = 50\n",
    "    guess = (high + low)/2.0 # new guess = 25\n",
    "    num_guesses += 1\n",
    "print(guess, 'is close to square root of', x)"
   ]
  }
 ],
 "metadata": {
  "kernelspec": {
   "display_name": "Python 3",
   "language": "python",
   "name": "python3"
  },
  "language_info": {
   "codemirror_mode": {
    "name": "ipython",
    "version": 3
   },
   "file_extension": ".py",
   "mimetype": "text/x-python",
   "name": "python",
   "nbconvert_exporter": "python",
   "pygments_lexer": "ipython3",
   "version": "3.13.3"
  }
 },
 "nbformat": 4,
 "nbformat_minor": 5
}
