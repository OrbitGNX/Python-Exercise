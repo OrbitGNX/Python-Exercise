{
 "cells": [
  {
   "cell_type": "markdown",
   "id": "ca8d875c",
   "metadata": {},
   "source": [
    "# H-Bridge <hr style=\"border:2.5px solid #126782\"></hr>"
   ]
  },
  {
   "cell_type": "markdown",
   "id": "03456f2f",
   "metadata": {},
   "source": [
    "<b>Gyro A. Madrona</b>\n",
    "<br>Electronics Engineer"
   ]
  },
  {
   "cell_type": "markdown",
   "id": "8ec068e7",
   "metadata": {
    "vscode": {
     "languageId": "plaintext"
    }
   },
   "source": [
    "<img src=\"image\\H-Bridge.png\" width=\"720\">"
   ]
  },
  {
   "cell_type": "code",
   "execution_count": null,
   "id": "1e8c0bd3",
   "metadata": {},
   "outputs": [],
   "source": [
    "# imports and packages\n",
    "import numpy as np\n",
    "import pint"
   ]
  },
  {
   "cell_type": "code",
   "execution_count": 59,
   "id": "2623d73c",
   "metadata": {},
   "outputs": [
    {
     "name": "stdout",
     "output_type": "stream",
     "text": [
      "v1 = 3.21 V\n",
      "v2 = 5.79 V\n",
      "v3 = 4.13 V\n",
      "v4 = 4.87 V\n",
      "vL = 921.36 mV\n",
      "\n",
      "i1 = 2.68 mA\n",
      "i2 = 1.75 mA\n",
      "i3 = 1.29 mA\n",
      "i4 = 2.21 mA\n",
      "iL = 921.36 µA\n",
      "\n",
      "i1 = 8.59 mW\n",
      "i2 = 10.16 mW\n",
      "i3 = 5.34 mW\n",
      "i4 = 10.77 mW\n",
      "iL = 848.90 µW\n",
      "\n"
     ]
    }
   ],
   "source": [
    "# objects for scientific notation\n",
    "ureg = pint.UnitRegistry()\n",
    "Q_ = ureg.Quantity\n",
    "\n",
    "# Given\n",
    "vo = 9\n",
    "R1 = 1.2e3\n",
    "R2 = 3.3e3\n",
    "R3 = 3.2e3\n",
    "R4 = 2.2e3\n",
    "RL = 1e3\n",
    "\n",
    "# conductance\n",
    "G1,G2,G3,G4,GL = 1/R1,1/R2,1/R3,1/R4,1/RL\n",
    "\n",
    "# coefficients matrix\n",
    "A = np.array([\n",
    "    # v1,v2,v3,v4,vL\n",
    "    [-G1, G2, 0, 0, GL],    # eq1\n",
    "    [0, 0, -G3, G4, -GL],   # eq2\n",
    "    [1, 1, 0, 0, 0],        # eq3\n",
    "    [-1, 0, 1, 0, -1],      # eq4\n",
    "    [0, -1, 0, 1, 1]        # eq5\n",
    "])\n",
    "\n",
    "# RH vector\n",
    "y = np.array([0, 0, vo, 0, 0])\n",
    "\n",
    "# solve voltage vector\n",
    "x = np.linalg.solve(A,y)\n",
    "\n",
    "# display voltage\n",
    "voltages = [\n",
    "    Q_(x[0], 'V'),\n",
    "    Q_(x[1], 'V'),\n",
    "    Q_(x[2], 'V'),\n",
    "    Q_(x[3], 'V'),\n",
    "    Q_(x[4], 'V'),\n",
    "]\n",
    "\n",
    "sci_v = [v.to_compact() for v in voltages]\n",
    "\n",
    "for i in range(1, len(sci_v)+1):\n",
    "    if i < len(sci_v):\n",
    "        print(f'v{i} = {sci_v[i-1]:~.2f}')\n",
    "    else:\n",
    "        print(f'vL = {sci_v[i-1]:~.2f}\\n')\n",
    "\n",
    "# display current\n",
    "currents = [\n",
    "    Q_(x[0]/R1, 'A'),\n",
    "    Q_(x[1]/R2, 'A'),\n",
    "    Q_(x[2]/R3, 'A'),\n",
    "    Q_(x[3]/R4, 'A'),\n",
    "    Q_(x[4]/RL, 'A'),\n",
    "]\n",
    "\n",
    "sci_i = [i.to_compact() for i in currents]\n",
    "\n",
    "for i in range(1, len(sci_i)+1):\n",
    "    if i < len(sci_i):\n",
    "        print(f'i{i} = {sci_i[i-1]:~.2f}')\n",
    "    else:\n",
    "        print(f'iL = {sci_i[i-1]:~.2f}\\n')\n",
    "\n",
    "# display power\n",
    "powers = [\n",
    "    Q_(x[0]**2/R1, 'W'),\n",
    "    Q_(x[1]**2/R2, 'W'),\n",
    "    Q_(x[2]**2/R3, 'W'),\n",
    "    Q_(x[3]**2/R4, 'W'),\n",
    "    Q_(x[4]**2/RL, 'W'),\n",
    "]\n",
    "\n",
    "sci_p = [p.to_compact() for p in powers]\n",
    "\n",
    "for i in range(1, len(sci_p)+1):\n",
    "    if i < len(sci_p):\n",
    "        print(f'i{i} = {sci_p[i-1]:~.2f}')\n",
    "    else:\n",
    "        print(f'iL = {sci_p[i-1]:~.2f}\\n')\n"
   ]
  }
 ],
 "metadata": {
  "kernelspec": {
   "display_name": "Python 3",
   "language": "python",
   "name": "python3"
  },
  "language_info": {
   "codemirror_mode": {
    "name": "ipython",
    "version": 3
   },
   "file_extension": ".py",
   "mimetype": "text/x-python",
   "name": "python",
   "nbconvert_exporter": "python",
   "pygments_lexer": "ipython3",
   "version": "3.13.3"
  }
 },
 "nbformat": 4,
 "nbformat_minor": 5
}
