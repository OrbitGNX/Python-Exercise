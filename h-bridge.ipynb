{
 "cells": [
  {
   "cell_type": "markdown",
   "id": "ca8d875c",
   "metadata": {},
   "source": [
    "# H-Bridge <hr style=\"border:2.5px solid #126782\"></hr>"
   ]
  },
  {
   "cell_type": "markdown",
   "id": "03456f2f",
   "metadata": {},
   "source": [
    "<b>Gyro A. Madrona</b>\n",
    "<br>Electronics Engineer"
   ]
  },
  {
   "cell_type": "markdown",
   "id": "8ec068e7",
   "metadata": {
    "vscode": {
     "languageId": "plaintext"
    }
   },
   "source": [
    "<img src=\"image\\H-Bridge.png\" width=\"720\">"
   ]
  },
  {
   "cell_type": "code",
   "execution_count": 1,
   "id": "1e8c0bd3",
   "metadata": {},
   "outputs": [],
   "source": [
    "import numpy as np"
   ]
  },
  {
   "cell_type": "code",
   "execution_count": null,
   "id": "2623d73c",
   "metadata": {},
   "outputs": [
    {
     "name": "stdout",
     "output_type": "stream",
     "text": [
      "v1 = 3.21 V\n",
      "v2 = 5.79 V\n",
      "v3 = 4.13 V\n",
      "v4 = 4.87 V\n",
      "vL = 0.92 V\n",
      "i1 = 0.0 A\n",
      "i2 = 0.0 A\n",
      "i3 = 0.0 A\n",
      "i4 = 0.0 A\n",
      "iL = 0.0 A\n",
      "P1 = 0.01 W\n",
      "P2 = 0.01 W\n",
      "P3 = 0.01 W\n",
      "P4 = 0.01 W\n",
      "PL = 0.0 W\n"
     ]
    }
   ],
   "source": [
    "# Given\n",
    "vo = 9\n",
    "R1 = 1.2e3\n",
    "R2 = 3.3e3\n",
    "R3 = 3.2e3\n",
    "R4 = 2.2e3\n",
    "RL = 1e3\n",
    "\n",
    "# conductance\n",
    "G1 = 1/R1\n",
    "G2 = 1/R2\n",
    "G3 = 1/R3\n",
    "G4 = 1/R4\n",
    "GL = 1/RL\n",
    "\n",
    "# coefficients matrix\n",
    "A = np.array([\n",
    "    # v1,v2,v3,v4,vL\n",
    "    [-G1, G2, 0, 0, GL],    # eq1\n",
    "    [0, 0, -G3, G4, -GL],   # eq2\n",
    "    [1, 1, 0, 0, 0],        # eq3\n",
    "    [-1, 0, 1, 0, -1],      # eq4\n",
    "    [0, -1, 0, 1, 1]        # eq5\n",
    "])\n",
    "\n",
    "# RH vector\n",
    "y = np.array([0, 0, vo, 0, 0])\n",
    "\n",
    "# solve voltage\n",
    "x = np.linalg.solve(A,y)\n",
    "v1 = x[0]\n",
    "v2 = x[1]\n",
    "v3 = x[2]\n",
    "v4 = x[3]\n",
    "vL = x[4]\n",
    "\n",
    "print(f'v1 = {v1.round(2)} V')\n",
    "print(f'v2 = {v2.round(2)} V')\n",
    "print(f'v3 = {v3.round(2)} V')\n",
    "print(f'v4 = {v4.round(2)} V')\n",
    "print(f'vL = {vL.round(2)} V')\n",
    "\n",
    "# current\n",
    "i1 = v1/R1\n",
    "i2 = v2/R2\n",
    "i3 = v3/R3\n",
    "i4 = v4/R4\n",
    "iL = vL/RL\n",
    "\n",
    "print(f'i1 = {i1.round(2)} A')\n",
    "print(f'i2 = {i2.round(2)} A')\n",
    "print(f'i3 = {i3.round(2)} A')\n",
    "print(f'i4 = {i4.round(2)} A')\n",
    "print(f'iL = {iL.round(2)} A')\n",
    "\n",
    "# power\n",
    "P1 = v1*i1\n",
    "P2 = v2*i2\n",
    "P3 = v3*i3\n",
    "P4 = v4*i4\n",
    "PL = vL*iL\n",
    "\n",
    "print(f'P1 = {P1.round(2)} W')\n",
    "print(f'P2 = {P2.round(2)} W')\n",
    "print(f'P3 = {P3.round(2)} W')\n",
    "print(f'P4 = {P4.round(2)} W')\n",
    "print(f'PL = {PL.round(2)} W')\n"
   ]
  }
 ],
 "metadata": {
  "kernelspec": {
   "display_name": "Python 3",
   "language": "python",
   "name": "python3"
  },
  "language_info": {
   "codemirror_mode": {
    "name": "ipython",
    "version": 3
   },
   "file_extension": ".py",
   "mimetype": "text/x-python",
   "name": "python",
   "nbconvert_exporter": "python",
   "pygments_lexer": "ipython3",
   "version": "3.13.3"
  }
 },
 "nbformat": 4,
 "nbformat_minor": 5
}
